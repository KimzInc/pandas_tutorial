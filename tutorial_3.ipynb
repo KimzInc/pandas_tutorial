{
 "cells": [
  {
   "cell_type": "code",
   "execution_count": 25,
   "id": "7df078e7-e026-4182-bd4e-1b0333c1464a",
   "metadata": {},
   "outputs": [],
   "source": [
    "import pandas as pd\n",
    "import numpy as np"
   ]
  },
  {
   "cell_type": "code",
   "execution_count": 26,
   "id": "01b7d1c1-1c94-4e60-82ac-ca9eef61feb7",
   "metadata": {},
   "outputs": [],
   "source": [
    "person = {\n",
    "    \"first\": [\"Felix\", \"Filo\",\"Flexx\"],\n",
    "    \"last\": [\"Kimutai\",\"Kimz\",\"Kimz\"],\n",
    "    \"email\": [\"kmtflx@gmail.com\", \"kimutai0003@gmail.com\", \"rfelix084@gmail.com\"]\n",
    "}"
   ]
  },
  {
   "cell_type": "code",
   "execution_count": 27,
   "id": "01f8ec17-c543-4d09-8d4e-00284a7df859",
   "metadata": {},
   "outputs": [
    {
     "data": {
      "text/plain": [
       "{'first': ['Felix', 'Filo', 'Flexx'],\n",
       " 'last': ['Kimutai', 'Kimz', 'Kimz'],\n",
       " 'email': ['kmtflx@gmail.com', 'kimutai0003@gmail.com', 'rfelix084@gmail.com']}"
      ]
     },
     "execution_count": 27,
     "metadata": {},
     "output_type": "execute_result"
    }
   ],
   "source": [
    "person"
   ]
  },
  {
   "cell_type": "code",
   "execution_count": 28,
   "id": "91cf5f41-689a-43be-ba9a-6501d55f70b8",
   "metadata": {},
   "outputs": [],
   "source": [
    "df = pd.DataFrame(person)"
   ]
  },
  {
   "cell_type": "code",
   "execution_count": 29,
   "id": "6c72b231-4786-4c13-b199-8b8659691f17",
   "metadata": {},
   "outputs": [
    {
     "data": {
      "text/html": [
       "<div>\n",
       "<style scoped>\n",
       "    .dataframe tbody tr th:only-of-type {\n",
       "        vertical-align: middle;\n",
       "    }\n",
       "\n",
       "    .dataframe tbody tr th {\n",
       "        vertical-align: top;\n",
       "    }\n",
       "\n",
       "    .dataframe thead th {\n",
       "        text-align: right;\n",
       "    }\n",
       "</style>\n",
       "<table border=\"1\" class=\"dataframe\">\n",
       "  <thead>\n",
       "    <tr style=\"text-align: right;\">\n",
       "      <th></th>\n",
       "      <th>first</th>\n",
       "      <th>last</th>\n",
       "      <th>email</th>\n",
       "    </tr>\n",
       "  </thead>\n",
       "  <tbody>\n",
       "    <tr>\n",
       "      <th>0</th>\n",
       "      <td>Felix</td>\n",
       "      <td>Kimutai</td>\n",
       "      <td>kmtflx@gmail.com</td>\n",
       "    </tr>\n",
       "    <tr>\n",
       "      <th>1</th>\n",
       "      <td>Filo</td>\n",
       "      <td>Kimz</td>\n",
       "      <td>kimutai0003@gmail.com</td>\n",
       "    </tr>\n",
       "    <tr>\n",
       "      <th>2</th>\n",
       "      <td>Flexx</td>\n",
       "      <td>Kimz</td>\n",
       "      <td>rfelix084@gmail.com</td>\n",
       "    </tr>\n",
       "  </tbody>\n",
       "</table>\n",
       "</div>"
      ],
      "text/plain": [
       "   first     last                  email\n",
       "0  Felix  Kimutai       kmtflx@gmail.com\n",
       "1   Filo     Kimz  kimutai0003@gmail.com\n",
       "2  Flexx     Kimz    rfelix084@gmail.com"
      ]
     },
     "execution_count": 29,
     "metadata": {},
     "output_type": "execute_result"
    }
   ],
   "source": [
    "df"
   ]
  },
  {
   "cell_type": "code",
   "execution_count": 30,
   "id": "22042329-70d1-4df6-a4c9-4c9e4e169408",
   "metadata": {},
   "outputs": [
    {
     "data": {
      "text/plain": [
       "0    Kimutai\n",
       "1       Kimz\n",
       "2       Kimz\n",
       "Name: last, dtype: object"
      ]
     },
     "execution_count": 30,
     "metadata": {},
     "output_type": "execute_result"
    }
   ],
   "source": [
    "df['last']"
   ]
  },
  {
   "cell_type": "code",
   "execution_count": 31,
   "id": "1134308b-d064-432d-8ac2-e795f7856df9",
   "metadata": {},
   "outputs": [
    {
     "data": {
      "text/html": [
       "<div>\n",
       "<style scoped>\n",
       "    .dataframe tbody tr th:only-of-type {\n",
       "        vertical-align: middle;\n",
       "    }\n",
       "\n",
       "    .dataframe tbody tr th {\n",
       "        vertical-align: top;\n",
       "    }\n",
       "\n",
       "    .dataframe thead th {\n",
       "        text-align: right;\n",
       "    }\n",
       "</style>\n",
       "<table border=\"1\" class=\"dataframe\">\n",
       "  <thead>\n",
       "    <tr style=\"text-align: right;\">\n",
       "      <th></th>\n",
       "      <th>first</th>\n",
       "      <th>last</th>\n",
       "    </tr>\n",
       "  </thead>\n",
       "  <tbody>\n",
       "    <tr>\n",
       "      <th>0</th>\n",
       "      <td>Felix</td>\n",
       "      <td>Kimutai</td>\n",
       "    </tr>\n",
       "    <tr>\n",
       "      <th>1</th>\n",
       "      <td>Filo</td>\n",
       "      <td>Kimz</td>\n",
       "    </tr>\n",
       "    <tr>\n",
       "      <th>2</th>\n",
       "      <td>Flexx</td>\n",
       "      <td>Kimz</td>\n",
       "    </tr>\n",
       "  </tbody>\n",
       "</table>\n",
       "</div>"
      ],
      "text/plain": [
       "   first     last\n",
       "0  Felix  Kimutai\n",
       "1   Filo     Kimz\n",
       "2  Flexx     Kimz"
      ]
     },
     "execution_count": 31,
     "metadata": {},
     "output_type": "execute_result"
    }
   ],
   "source": [
    "df[['first', 'last']]"
   ]
  },
  {
   "cell_type": "code",
   "execution_count": 32,
   "id": "1a233071-cc45-4423-a13c-71130471a7c1",
   "metadata": {},
   "outputs": [
    {
     "data": {
      "text/plain": [
       "Index(['first', 'last', 'email'], dtype='object')"
      ]
     },
     "execution_count": 32,
     "metadata": {},
     "output_type": "execute_result"
    }
   ],
   "source": [
    "df.columns"
   ]
  },
  {
   "cell_type": "code",
   "execution_count": 33,
   "id": "ad3fe567-819b-4c77-8a49-11b83906f16b",
   "metadata": {},
   "outputs": [
    {
     "data": {
      "text/plain": [
       "first               Felix\n",
       "last              Kimutai\n",
       "email    kmtflx@gmail.com\n",
       "Name: 0, dtype: object"
      ]
     },
     "execution_count": 33,
     "metadata": {},
     "output_type": "execute_result"
    }
   ],
   "source": [
    "# iloc\n",
    "df.iloc[0]"
   ]
  },
  {
   "cell_type": "code",
   "execution_count": 34,
   "id": "24b8d8ae-81ad-49f5-8c7a-8eca4ab63160",
   "metadata": {},
   "outputs": [
    {
     "data": {
      "text/plain": [
       "first                  Flexx\n",
       "last                    Kimz\n",
       "email    rfelix084@gmail.com\n",
       "Name: 2, dtype: object"
      ]
     },
     "execution_count": 34,
     "metadata": {},
     "output_type": "execute_result"
    }
   ],
   "source": [
    "df.iloc[2]"
   ]
  },
  {
   "cell_type": "code",
   "execution_count": 35,
   "id": "3e6f49d3-def3-46ab-a714-dfee45f5113a",
   "metadata": {},
   "outputs": [
    {
     "data": {
      "text/plain": [
       "0       kmtflx@gmail.com\n",
       "2    rfelix084@gmail.com\n",
       "Name: email, dtype: object"
      ]
     },
     "execution_count": 35,
     "metadata": {},
     "output_type": "execute_result"
    }
   ],
   "source": [
    "df.iloc[[0,2], 2]"
   ]
  },
  {
   "cell_type": "code",
   "execution_count": 36,
   "id": "c52646fe-19ff-4f2d-8deb-079ff6c850d5",
   "metadata": {},
   "outputs": [
    {
     "data": {
      "text/html": [
       "<div>\n",
       "<style scoped>\n",
       "    .dataframe tbody tr th:only-of-type {\n",
       "        vertical-align: middle;\n",
       "    }\n",
       "\n",
       "    .dataframe tbody tr th {\n",
       "        vertical-align: top;\n",
       "    }\n",
       "\n",
       "    .dataframe thead th {\n",
       "        text-align: right;\n",
       "    }\n",
       "</style>\n",
       "<table border=\"1\" class=\"dataframe\">\n",
       "  <thead>\n",
       "    <tr style=\"text-align: right;\">\n",
       "      <th></th>\n",
       "      <th>first</th>\n",
       "      <th>last</th>\n",
       "      <th>email</th>\n",
       "    </tr>\n",
       "  </thead>\n",
       "  <tbody>\n",
       "    <tr>\n",
       "      <th>0</th>\n",
       "      <td>Felix</td>\n",
       "      <td>Kimutai</td>\n",
       "      <td>kmtflx@gmail.com</td>\n",
       "    </tr>\n",
       "    <tr>\n",
       "      <th>1</th>\n",
       "      <td>Filo</td>\n",
       "      <td>Kimz</td>\n",
       "      <td>kimutai0003@gmail.com</td>\n",
       "    </tr>\n",
       "    <tr>\n",
       "      <th>2</th>\n",
       "      <td>Flexx</td>\n",
       "      <td>Kimz</td>\n",
       "      <td>rfelix084@gmail.com</td>\n",
       "    </tr>\n",
       "  </tbody>\n",
       "</table>\n",
       "</div>"
      ],
      "text/plain": [
       "   first     last                  email\n",
       "0  Felix  Kimutai       kmtflx@gmail.com\n",
       "1   Filo     Kimz  kimutai0003@gmail.com\n",
       "2  Flexx     Kimz    rfelix084@gmail.com"
      ]
     },
     "execution_count": 36,
     "metadata": {},
     "output_type": "execute_result"
    }
   ],
   "source": [
    "# loc\n",
    "df"
   ]
  },
  {
   "cell_type": "code",
   "execution_count": 37,
   "id": "b49bc2fb-d564-44fa-b744-0804cb5cec84",
   "metadata": {},
   "outputs": [
    {
     "data": {
      "text/html": [
       "<div>\n",
       "<style scoped>\n",
       "    .dataframe tbody tr th:only-of-type {\n",
       "        vertical-align: middle;\n",
       "    }\n",
       "\n",
       "    .dataframe tbody tr th {\n",
       "        vertical-align: top;\n",
       "    }\n",
       "\n",
       "    .dataframe thead th {\n",
       "        text-align: right;\n",
       "    }\n",
       "</style>\n",
       "<table border=\"1\" class=\"dataframe\">\n",
       "  <thead>\n",
       "    <tr style=\"text-align: right;\">\n",
       "      <th></th>\n",
       "      <th>email</th>\n",
       "      <th>last</th>\n",
       "    </tr>\n",
       "  </thead>\n",
       "  <tbody>\n",
       "    <tr>\n",
       "      <th>1</th>\n",
       "      <td>kimutai0003@gmail.com</td>\n",
       "      <td>Kimz</td>\n",
       "    </tr>\n",
       "    <tr>\n",
       "      <th>2</th>\n",
       "      <td>rfelix084@gmail.com</td>\n",
       "      <td>Kimz</td>\n",
       "    </tr>\n",
       "  </tbody>\n",
       "</table>\n",
       "</div>"
      ],
      "text/plain": [
       "                   email  last\n",
       "1  kimutai0003@gmail.com  Kimz\n",
       "2    rfelix084@gmail.com  Kimz"
      ]
     },
     "execution_count": 37,
     "metadata": {},
     "output_type": "execute_result"
    }
   ],
   "source": [
    "df.loc[[1,2], ['email', 'last']]"
   ]
  },
  {
   "cell_type": "code",
   "execution_count": 38,
   "id": "fa0532b7-4a72-4595-b0cf-ca9449e9c63a",
   "metadata": {},
   "outputs": [
    {
     "data": {
      "text/html": [
       "<div>\n",
       "<style scoped>\n",
       "    .dataframe tbody tr th:only-of-type {\n",
       "        vertical-align: middle;\n",
       "    }\n",
       "\n",
       "    .dataframe tbody tr th {\n",
       "        vertical-align: top;\n",
       "    }\n",
       "\n",
       "    .dataframe thead th {\n",
       "        text-align: right;\n",
       "    }\n",
       "</style>\n",
       "<table border=\"1\" class=\"dataframe\">\n",
       "  <thead>\n",
       "    <tr style=\"text-align: right;\">\n",
       "      <th></th>\n",
       "      <th>first</th>\n",
       "      <th>last</th>\n",
       "      <th>email</th>\n",
       "    </tr>\n",
       "  </thead>\n",
       "  <tbody>\n",
       "    <tr>\n",
       "      <th>0</th>\n",
       "      <td>Felix</td>\n",
       "      <td>Kimutai</td>\n",
       "      <td>kmtflx@gmail.com</td>\n",
       "    </tr>\n",
       "    <tr>\n",
       "      <th>1</th>\n",
       "      <td>Filo</td>\n",
       "      <td>Kimz</td>\n",
       "      <td>kimutai0003@gmail.com</td>\n",
       "    </tr>\n",
       "    <tr>\n",
       "      <th>2</th>\n",
       "      <td>Flexx</td>\n",
       "      <td>Kimz</td>\n",
       "      <td>rfelix084@gmail.com</td>\n",
       "    </tr>\n",
       "  </tbody>\n",
       "</table>\n",
       "</div>"
      ],
      "text/plain": [
       "   first     last                  email\n",
       "0  Felix  Kimutai       kmtflx@gmail.com\n",
       "1   Filo     Kimz  kimutai0003@gmail.com\n",
       "2  Flexx     Kimz    rfelix084@gmail.com"
      ]
     },
     "execution_count": 38,
     "metadata": {},
     "output_type": "execute_result"
    }
   ],
   "source": [
    "df"
   ]
  },
  {
   "cell_type": "code",
   "execution_count": 39,
   "id": "147f79c8-d17c-4257-b813-c4ebb34d53b5",
   "metadata": {},
   "outputs": [
    {
     "data": {
      "text/html": [
       "<div>\n",
       "<style scoped>\n",
       "    .dataframe tbody tr th:only-of-type {\n",
       "        vertical-align: middle;\n",
       "    }\n",
       "\n",
       "    .dataframe tbody tr th {\n",
       "        vertical-align: top;\n",
       "    }\n",
       "\n",
       "    .dataframe thead th {\n",
       "        text-align: right;\n",
       "    }\n",
       "</style>\n",
       "<table border=\"1\" class=\"dataframe\">\n",
       "  <thead>\n",
       "    <tr style=\"text-align: right;\">\n",
       "      <th></th>\n",
       "      <th>first</th>\n",
       "      <th>last</th>\n",
       "    </tr>\n",
       "    <tr>\n",
       "      <th>email</th>\n",
       "      <th></th>\n",
       "      <th></th>\n",
       "    </tr>\n",
       "  </thead>\n",
       "  <tbody>\n",
       "    <tr>\n",
       "      <th>kmtflx@gmail.com</th>\n",
       "      <td>Felix</td>\n",
       "      <td>Kimutai</td>\n",
       "    </tr>\n",
       "    <tr>\n",
       "      <th>kimutai0003@gmail.com</th>\n",
       "      <td>Filo</td>\n",
       "      <td>Kimz</td>\n",
       "    </tr>\n",
       "    <tr>\n",
       "      <th>rfelix084@gmail.com</th>\n",
       "      <td>Flexx</td>\n",
       "      <td>Kimz</td>\n",
       "    </tr>\n",
       "  </tbody>\n",
       "</table>\n",
       "</div>"
      ],
      "text/plain": [
       "                       first     last\n",
       "email                                \n",
       "kmtflx@gmail.com       Felix  Kimutai\n",
       "kimutai0003@gmail.com   Filo     Kimz\n",
       "rfelix084@gmail.com    Flexx     Kimz"
      ]
     },
     "execution_count": 39,
     "metadata": {},
     "output_type": "execute_result"
    }
   ],
   "source": [
    "df.set_index('email')"
   ]
  },
  {
   "cell_type": "code",
   "execution_count": 40,
   "id": "39f32f96-c595-42a5-a0a9-e0a09d1e38aa",
   "metadata": {},
   "outputs": [
    {
     "data": {
      "text/html": [
       "<div>\n",
       "<style scoped>\n",
       "    .dataframe tbody tr th:only-of-type {\n",
       "        vertical-align: middle;\n",
       "    }\n",
       "\n",
       "    .dataframe tbody tr th {\n",
       "        vertical-align: top;\n",
       "    }\n",
       "\n",
       "    .dataframe thead th {\n",
       "        text-align: right;\n",
       "    }\n",
       "</style>\n",
       "<table border=\"1\" class=\"dataframe\">\n",
       "  <thead>\n",
       "    <tr style=\"text-align: right;\">\n",
       "      <th></th>\n",
       "      <th>first</th>\n",
       "      <th>last</th>\n",
       "      <th>email</th>\n",
       "    </tr>\n",
       "  </thead>\n",
       "  <tbody>\n",
       "    <tr>\n",
       "      <th>0</th>\n",
       "      <td>Felix</td>\n",
       "      <td>Kimutai</td>\n",
       "      <td>kmtflx@gmail.com</td>\n",
       "    </tr>\n",
       "    <tr>\n",
       "      <th>1</th>\n",
       "      <td>Filo</td>\n",
       "      <td>Kimz</td>\n",
       "      <td>kimutai0003@gmail.com</td>\n",
       "    </tr>\n",
       "    <tr>\n",
       "      <th>2</th>\n",
       "      <td>Flexx</td>\n",
       "      <td>Kimz</td>\n",
       "      <td>rfelix084@gmail.com</td>\n",
       "    </tr>\n",
       "  </tbody>\n",
       "</table>\n",
       "</div>"
      ],
      "text/plain": [
       "   first     last                  email\n",
       "0  Felix  Kimutai       kmtflx@gmail.com\n",
       "1   Filo     Kimz  kimutai0003@gmail.com\n",
       "2  Flexx     Kimz    rfelix084@gmail.com"
      ]
     },
     "execution_count": 40,
     "metadata": {},
     "output_type": "execute_result"
    }
   ],
   "source": [
    "df"
   ]
  },
  {
   "cell_type": "code",
   "execution_count": 41,
   "id": "8cc36771-4c49-4559-be88-6119c1f307ad",
   "metadata": {},
   "outputs": [],
   "source": [
    "df.set_index('email', inplace=True)"
   ]
  },
  {
   "cell_type": "code",
   "execution_count": 42,
   "id": "50193b19-e7a3-401b-81ba-2b61ba452327",
   "metadata": {},
   "outputs": [
    {
     "data": {
      "text/html": [
       "<div>\n",
       "<style scoped>\n",
       "    .dataframe tbody tr th:only-of-type {\n",
       "        vertical-align: middle;\n",
       "    }\n",
       "\n",
       "    .dataframe tbody tr th {\n",
       "        vertical-align: top;\n",
       "    }\n",
       "\n",
       "    .dataframe thead th {\n",
       "        text-align: right;\n",
       "    }\n",
       "</style>\n",
       "<table border=\"1\" class=\"dataframe\">\n",
       "  <thead>\n",
       "    <tr style=\"text-align: right;\">\n",
       "      <th></th>\n",
       "      <th>first</th>\n",
       "      <th>last</th>\n",
       "    </tr>\n",
       "    <tr>\n",
       "      <th>email</th>\n",
       "      <th></th>\n",
       "      <th></th>\n",
       "    </tr>\n",
       "  </thead>\n",
       "  <tbody>\n",
       "    <tr>\n",
       "      <th>kmtflx@gmail.com</th>\n",
       "      <td>Felix</td>\n",
       "      <td>Kimutai</td>\n",
       "    </tr>\n",
       "    <tr>\n",
       "      <th>kimutai0003@gmail.com</th>\n",
       "      <td>Filo</td>\n",
       "      <td>Kimz</td>\n",
       "    </tr>\n",
       "    <tr>\n",
       "      <th>rfelix084@gmail.com</th>\n",
       "      <td>Flexx</td>\n",
       "      <td>Kimz</td>\n",
       "    </tr>\n",
       "  </tbody>\n",
       "</table>\n",
       "</div>"
      ],
      "text/plain": [
       "                       first     last\n",
       "email                                \n",
       "kmtflx@gmail.com       Felix  Kimutai\n",
       "kimutai0003@gmail.com   Filo     Kimz\n",
       "rfelix084@gmail.com    Flexx     Kimz"
      ]
     },
     "execution_count": 42,
     "metadata": {},
     "output_type": "execute_result"
    }
   ],
   "source": [
    "df"
   ]
  },
  {
   "cell_type": "code",
   "execution_count": 43,
   "id": "c753c768-c1ea-4cf8-863b-d537e131fc48",
   "metadata": {},
   "outputs": [
    {
     "data": {
      "text/plain": [
       "Index(['kmtflx@gmail.com', 'kimutai0003@gmail.com', 'rfelix084@gmail.com'], dtype='object', name='email')"
      ]
     },
     "execution_count": 43,
     "metadata": {},
     "output_type": "execute_result"
    }
   ],
   "source": [
    "df.index"
   ]
  },
  {
   "cell_type": "code",
   "execution_count": 44,
   "id": "c86f35c5-74e9-4d2a-874f-4ef4ae43e29d",
   "metadata": {},
   "outputs": [
    {
     "data": {
      "text/plain": [
       "'Kimutai'"
      ]
     },
     "execution_count": 44,
     "metadata": {},
     "output_type": "execute_result"
    }
   ],
   "source": [
    "df.loc['kmtflx@gmail.com', 'last']"
   ]
  },
  {
   "cell_type": "code",
   "execution_count": 45,
   "id": "dae2177b-a3b3-4587-b929-c9e033d10691",
   "metadata": {},
   "outputs": [
    {
     "data": {
      "text/html": [
       "<div>\n",
       "<style scoped>\n",
       "    .dataframe tbody tr th:only-of-type {\n",
       "        vertical-align: middle;\n",
       "    }\n",
       "\n",
       "    .dataframe tbody tr th {\n",
       "        vertical-align: top;\n",
       "    }\n",
       "\n",
       "    .dataframe thead th {\n",
       "        text-align: right;\n",
       "    }\n",
       "</style>\n",
       "<table border=\"1\" class=\"dataframe\">\n",
       "  <thead>\n",
       "    <tr style=\"text-align: right;\">\n",
       "      <th></th>\n",
       "      <th>email</th>\n",
       "      <th>first</th>\n",
       "      <th>last</th>\n",
       "    </tr>\n",
       "  </thead>\n",
       "  <tbody>\n",
       "    <tr>\n",
       "      <th>0</th>\n",
       "      <td>kmtflx@gmail.com</td>\n",
       "      <td>Felix</td>\n",
       "      <td>Kimutai</td>\n",
       "    </tr>\n",
       "    <tr>\n",
       "      <th>1</th>\n",
       "      <td>kimutai0003@gmail.com</td>\n",
       "      <td>Filo</td>\n",
       "      <td>Kimz</td>\n",
       "    </tr>\n",
       "    <tr>\n",
       "      <th>2</th>\n",
       "      <td>rfelix084@gmail.com</td>\n",
       "      <td>Flexx</td>\n",
       "      <td>Kimz</td>\n",
       "    </tr>\n",
       "  </tbody>\n",
       "</table>\n",
       "</div>"
      ],
      "text/plain": [
       "                   email  first     last\n",
       "0       kmtflx@gmail.com  Felix  Kimutai\n",
       "1  kimutai0003@gmail.com   Filo     Kimz\n",
       "2    rfelix084@gmail.com  Flexx     Kimz"
      ]
     },
     "execution_count": 45,
     "metadata": {},
     "output_type": "execute_result"
    }
   ],
   "source": [
    "df.reset_index()"
   ]
  },
  {
   "cell_type": "code",
   "execution_count": 46,
   "id": "5981777f-5e48-4f12-94f4-fd115d1df0df",
   "metadata": {},
   "outputs": [
    {
     "data": {
      "text/html": [
       "<div>\n",
       "<style scoped>\n",
       "    .dataframe tbody tr th:only-of-type {\n",
       "        vertical-align: middle;\n",
       "    }\n",
       "\n",
       "    .dataframe tbody tr th {\n",
       "        vertical-align: top;\n",
       "    }\n",
       "\n",
       "    .dataframe thead th {\n",
       "        text-align: right;\n",
       "    }\n",
       "</style>\n",
       "<table border=\"1\" class=\"dataframe\">\n",
       "  <thead>\n",
       "    <tr style=\"text-align: right;\">\n",
       "      <th></th>\n",
       "      <th>first</th>\n",
       "      <th>last</th>\n",
       "    </tr>\n",
       "    <tr>\n",
       "      <th>email</th>\n",
       "      <th></th>\n",
       "      <th></th>\n",
       "    </tr>\n",
       "  </thead>\n",
       "  <tbody>\n",
       "    <tr>\n",
       "      <th>kmtflx@gmail.com</th>\n",
       "      <td>Felix</td>\n",
       "      <td>Kimutai</td>\n",
       "    </tr>\n",
       "    <tr>\n",
       "      <th>kimutai0003@gmail.com</th>\n",
       "      <td>Filo</td>\n",
       "      <td>Kimz</td>\n",
       "    </tr>\n",
       "    <tr>\n",
       "      <th>rfelix084@gmail.com</th>\n",
       "      <td>Flexx</td>\n",
       "      <td>Kimz</td>\n",
       "    </tr>\n",
       "  </tbody>\n",
       "</table>\n",
       "</div>"
      ],
      "text/plain": [
       "                       first     last\n",
       "email                                \n",
       "kmtflx@gmail.com       Felix  Kimutai\n",
       "kimutai0003@gmail.com   Filo     Kimz\n",
       "rfelix084@gmail.com    Flexx     Kimz"
      ]
     },
     "execution_count": 46,
     "metadata": {},
     "output_type": "execute_result"
    }
   ],
   "source": [
    "df"
   ]
  },
  {
   "cell_type": "code",
   "execution_count": 49,
   "id": "4a6f2ca4-4b46-43a9-a2a2-65b10394f14f",
   "metadata": {},
   "outputs": [
    {
     "data": {
      "text/plain": [
       "email\n",
       "kmtflx@gmail.com         False\n",
       "kimutai0003@gmail.com     True\n",
       "rfelix084@gmail.com       True\n",
       "Name: last, dtype: bool"
      ]
     },
     "execution_count": 49,
     "metadata": {},
     "output_type": "execute_result"
    }
   ],
   "source": [
    "# filteration\n",
    "df['last'] == 'Kimz'"
   ]
  },
  {
   "cell_type": "code",
   "execution_count": 54,
   "id": "70d0e240-8605-495f-b3b8-600207e58d89",
   "metadata": {},
   "outputs": [],
   "source": [
    "filt = (df['last'] == 'Kimz')"
   ]
  },
  {
   "cell_type": "code",
   "execution_count": 55,
   "id": "54e0d96e-1b5d-492a-a7d7-ed940f655894",
   "metadata": {},
   "outputs": [
    {
     "data": {
      "text/plain": [
       "email\n",
       "kmtflx@gmail.com         False\n",
       "kimutai0003@gmail.com     True\n",
       "rfelix084@gmail.com       True\n",
       "Name: last, dtype: bool"
      ]
     },
     "execution_count": 55,
     "metadata": {},
     "output_type": "execute_result"
    }
   ],
   "source": [
    "filt"
   ]
  },
  {
   "cell_type": "code",
   "execution_count": 57,
   "id": "cdc66514-e888-46b7-a14b-4c0da894ef92",
   "metadata": {},
   "outputs": [
    {
     "data": {
      "text/html": [
       "<div>\n",
       "<style scoped>\n",
       "    .dataframe tbody tr th:only-of-type {\n",
       "        vertical-align: middle;\n",
       "    }\n",
       "\n",
       "    .dataframe tbody tr th {\n",
       "        vertical-align: top;\n",
       "    }\n",
       "\n",
       "    .dataframe thead th {\n",
       "        text-align: right;\n",
       "    }\n",
       "</style>\n",
       "<table border=\"1\" class=\"dataframe\">\n",
       "  <thead>\n",
       "    <tr style=\"text-align: right;\">\n",
       "      <th></th>\n",
       "      <th>first</th>\n",
       "      <th>last</th>\n",
       "    </tr>\n",
       "    <tr>\n",
       "      <th>email</th>\n",
       "      <th></th>\n",
       "      <th></th>\n",
       "    </tr>\n",
       "  </thead>\n",
       "  <tbody>\n",
       "    <tr>\n",
       "      <th>kimutai0003@gmail.com</th>\n",
       "      <td>Filo</td>\n",
       "      <td>Kimz</td>\n",
       "    </tr>\n",
       "    <tr>\n",
       "      <th>rfelix084@gmail.com</th>\n",
       "      <td>Flexx</td>\n",
       "      <td>Kimz</td>\n",
       "    </tr>\n",
       "  </tbody>\n",
       "</table>\n",
       "</div>"
      ],
      "text/plain": [
       "                       first  last\n",
       "email                             \n",
       "kimutai0003@gmail.com   Filo  Kimz\n",
       "rfelix084@gmail.com    Flexx  Kimz"
      ]
     },
     "execution_count": 57,
     "metadata": {},
     "output_type": "execute_result"
    }
   ],
   "source": [
    "df.loc[filt]"
   ]
  },
  {
   "cell_type": "code",
   "execution_count": 60,
   "id": "68d810d8-edfa-4fe6-8b3d-73efed02e9e5",
   "metadata": {},
   "outputs": [
    {
     "data": {
      "text/plain": [
       "email\n",
       "kimutai0003@gmail.com     Filo\n",
       "rfelix084@gmail.com      Flexx\n",
       "Name: first, dtype: object"
      ]
     },
     "execution_count": 60,
     "metadata": {},
     "output_type": "execute_result"
    }
   ],
   "source": [
    "df.loc[filt, 'first']"
   ]
  },
  {
   "cell_type": "code",
   "execution_count": 69,
   "id": "728c52d6-c985-40a0-9e7f-5d048c5edc2e",
   "metadata": {},
   "outputs": [],
   "source": [
    "# AND & OR |\n",
    "\n",
    "filt = (df['last'] == 'Kimz') & (df['first'] == 'Filo')"
   ]
  },
  {
   "cell_type": "code",
   "execution_count": 70,
   "id": "b5998cb3-bdab-409e-a98d-2418ee2b19a9",
   "metadata": {},
   "outputs": [
    {
     "data": {
      "text/plain": [
       "email\n",
       "kimutai0003@gmail.com    Kimz\n",
       "Name: last, dtype: object"
      ]
     },
     "execution_count": 70,
     "metadata": {},
     "output_type": "execute_result"
    }
   ],
   "source": [
    "df.loc[filt, 'last']"
   ]
  },
  {
   "cell_type": "code",
   "execution_count": 71,
   "id": "4009eefa-d0ad-490a-a21b-6ea54947824b",
   "metadata": {},
   "outputs": [
    {
     "data": {
      "text/html": [
       "<div>\n",
       "<style scoped>\n",
       "    .dataframe tbody tr th:only-of-type {\n",
       "        vertical-align: middle;\n",
       "    }\n",
       "\n",
       "    .dataframe tbody tr th {\n",
       "        vertical-align: top;\n",
       "    }\n",
       "\n",
       "    .dataframe thead th {\n",
       "        text-align: right;\n",
       "    }\n",
       "</style>\n",
       "<table border=\"1\" class=\"dataframe\">\n",
       "  <thead>\n",
       "    <tr style=\"text-align: right;\">\n",
       "      <th></th>\n",
       "      <th>first</th>\n",
       "      <th>last</th>\n",
       "    </tr>\n",
       "    <tr>\n",
       "      <th>email</th>\n",
       "      <th></th>\n",
       "      <th></th>\n",
       "    </tr>\n",
       "  </thead>\n",
       "  <tbody>\n",
       "    <tr>\n",
       "      <th>kimutai0003@gmail.com</th>\n",
       "      <td>Filo</td>\n",
       "      <td>Kimz</td>\n",
       "    </tr>\n",
       "  </tbody>\n",
       "</table>\n",
       "</div>"
      ],
      "text/plain": [
       "                      first  last\n",
       "email                            \n",
       "kimutai0003@gmail.com  Filo  Kimz"
      ]
     },
     "execution_count": 71,
     "metadata": {},
     "output_type": "execute_result"
    }
   ],
   "source": [
    "df.loc[filt]"
   ]
  },
  {
   "cell_type": "code",
   "execution_count": 72,
   "id": "0fe6776c-e12c-4fb3-8487-b4cc9272d7ab",
   "metadata": {},
   "outputs": [],
   "source": [
    "filt = (df['last'] == 'Kimz') | (df['first'] == 'Filo')"
   ]
  },
  {
   "cell_type": "code",
   "execution_count": 73,
   "id": "666555d6-0c55-43c9-878c-03d990bab2dc",
   "metadata": {},
   "outputs": [
    {
     "data": {
      "text/plain": [
       "email\n",
       "kimutai0003@gmail.com    Kimz\n",
       "rfelix084@gmail.com      Kimz\n",
       "Name: last, dtype: object"
      ]
     },
     "execution_count": 73,
     "metadata": {},
     "output_type": "execute_result"
    }
   ],
   "source": [
    "df.loc[filt, 'last']"
   ]
  },
  {
   "cell_type": "code",
   "execution_count": 74,
   "id": "e8b12939-aec9-4dca-a722-6c7ad4f30e8a",
   "metadata": {},
   "outputs": [
    {
     "data": {
      "text/html": [
       "<div>\n",
       "<style scoped>\n",
       "    .dataframe tbody tr th:only-of-type {\n",
       "        vertical-align: middle;\n",
       "    }\n",
       "\n",
       "    .dataframe tbody tr th {\n",
       "        vertical-align: top;\n",
       "    }\n",
       "\n",
       "    .dataframe thead th {\n",
       "        text-align: right;\n",
       "    }\n",
       "</style>\n",
       "<table border=\"1\" class=\"dataframe\">\n",
       "  <thead>\n",
       "    <tr style=\"text-align: right;\">\n",
       "      <th></th>\n",
       "      <th>first</th>\n",
       "      <th>last</th>\n",
       "    </tr>\n",
       "    <tr>\n",
       "      <th>email</th>\n",
       "      <th></th>\n",
       "      <th></th>\n",
       "    </tr>\n",
       "  </thead>\n",
       "  <tbody>\n",
       "    <tr>\n",
       "      <th>kimutai0003@gmail.com</th>\n",
       "      <td>Filo</td>\n",
       "      <td>Kimz</td>\n",
       "    </tr>\n",
       "    <tr>\n",
       "      <th>rfelix084@gmail.com</th>\n",
       "      <td>Flexx</td>\n",
       "      <td>Kimz</td>\n",
       "    </tr>\n",
       "  </tbody>\n",
       "</table>\n",
       "</div>"
      ],
      "text/plain": [
       "                       first  last\n",
       "email                             \n",
       "kimutai0003@gmail.com   Filo  Kimz\n",
       "rfelix084@gmail.com    Flexx  Kimz"
      ]
     },
     "execution_count": 74,
     "metadata": {},
     "output_type": "execute_result"
    }
   ],
   "source": [
    "df.loc[filt]"
   ]
  },
  {
   "cell_type": "code",
   "execution_count": 75,
   "id": "f75fbfa7-5a16-4ecd-88be-35900484f531",
   "metadata": {},
   "outputs": [
    {
     "data": {
      "text/html": [
       "<div>\n",
       "<style scoped>\n",
       "    .dataframe tbody tr th:only-of-type {\n",
       "        vertical-align: middle;\n",
       "    }\n",
       "\n",
       "    .dataframe tbody tr th {\n",
       "        vertical-align: top;\n",
       "    }\n",
       "\n",
       "    .dataframe thead th {\n",
       "        text-align: right;\n",
       "    }\n",
       "</style>\n",
       "<table border=\"1\" class=\"dataframe\">\n",
       "  <thead>\n",
       "    <tr style=\"text-align: right;\">\n",
       "      <th></th>\n",
       "      <th>first</th>\n",
       "      <th>last</th>\n",
       "    </tr>\n",
       "    <tr>\n",
       "      <th>email</th>\n",
       "      <th></th>\n",
       "      <th></th>\n",
       "    </tr>\n",
       "  </thead>\n",
       "  <tbody>\n",
       "    <tr>\n",
       "      <th>kmtflx@gmail.com</th>\n",
       "      <td>Felix</td>\n",
       "      <td>Kimutai</td>\n",
       "    </tr>\n",
       "  </tbody>\n",
       "</table>\n",
       "</div>"
      ],
      "text/plain": [
       "                  first     last\n",
       "email                           \n",
       "kmtflx@gmail.com  Felix  Kimutai"
      ]
     },
     "execution_count": 75,
     "metadata": {},
     "output_type": "execute_result"
    }
   ],
   "source": [
    "# Negation with tilde ~\n",
    "\n",
    "df.loc[~filt]"
   ]
  },
  {
   "cell_type": "code",
   "execution_count": null,
   "id": "af545e1b-14bb-4aea-9b65-ccfab3e95a52",
   "metadata": {},
   "outputs": [],
   "source": []
  }
 ],
 "metadata": {
  "kernelspec": {
   "display_name": "Python 3 (ipykernel)",
   "language": "python",
   "name": "python3"
  },
  "language_info": {
   "codemirror_mode": {
    "name": "ipython",
    "version": 3
   },
   "file_extension": ".py",
   "mimetype": "text/x-python",
   "name": "python",
   "nbconvert_exporter": "python",
   "pygments_lexer": "ipython3",
   "version": "3.8.10"
  }
 },
 "nbformat": 4,
 "nbformat_minor": 5
}
