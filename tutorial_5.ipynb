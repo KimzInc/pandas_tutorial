{
 "cells": [
  {
   "cell_type": "markdown",
   "id": "1c10a3f3-9bd5-47e0-bbd4-1a28774a7256",
   "metadata": {},
   "source": [
    "### Imports"
   ]
  },
  {
   "cell_type": "code",
   "execution_count": 34,
   "id": "2241e8b6-1927-4a04-ac6c-de3c2133f244",
   "metadata": {},
   "outputs": [],
   "source": [
    "import pandas as pd\n",
    "import numpy as np"
   ]
  },
  {
   "cell_type": "markdown",
   "id": "039dda2f-710e-456d-86d0-0126ee8e23b2",
   "metadata": {},
   "source": [
    "### Data"
   ]
  },
  {
   "cell_type": "code",
   "execution_count": 35,
   "id": "375b37f7-bb51-452a-968a-73cbd94a3464",
   "metadata": {},
   "outputs": [],
   "source": [
    "people = {\n",
    "    \"first\": [\"Peter\", \"Robert\", \"Thomas\"],\n",
    "    \"last\": [\"Robie\", \"Don\", \"Don\"],\n",
    "    \"email\": [\"PeterRobie@gmail.com\", \"RobertDon@gmail.com\", \"ThomasDon@gmail.com\"]\n",
    "}"
   ]
  },
  {
   "cell_type": "code",
   "execution_count": 36,
   "id": "2b343867-444e-4e91-adfd-6a5a48d2779f",
   "metadata": {},
   "outputs": [
    {
     "data": {
      "text/plain": [
       "{'first': ['Peter', 'Robert', 'Thomas'],\n",
       " 'last': ['Robie', 'Don', 'Don'],\n",
       " 'email': ['PeterRobie@gmail.com',\n",
       "  'RobertDon@gmail.com',\n",
       "  'ThomasDon@gmail.com']}"
      ]
     },
     "execution_count": 36,
     "metadata": {},
     "output_type": "execute_result"
    }
   ],
   "source": [
    "people"
   ]
  },
  {
   "cell_type": "code",
   "execution_count": 37,
   "id": "6b42ad45-4f17-46a8-943d-4b14b293d017",
   "metadata": {},
   "outputs": [],
   "source": [
    "df = pd.DataFrame(people)"
   ]
  },
  {
   "cell_type": "code",
   "execution_count": 38,
   "id": "bb9795d6-5c37-4b82-9483-f59977d7760c",
   "metadata": {},
   "outputs": [
    {
     "data": {
      "text/html": [
       "<div>\n",
       "<style scoped>\n",
       "    .dataframe tbody tr th:only-of-type {\n",
       "        vertical-align: middle;\n",
       "    }\n",
       "\n",
       "    .dataframe tbody tr th {\n",
       "        vertical-align: top;\n",
       "    }\n",
       "\n",
       "    .dataframe thead th {\n",
       "        text-align: right;\n",
       "    }\n",
       "</style>\n",
       "<table border=\"1\" class=\"dataframe\">\n",
       "  <thead>\n",
       "    <tr style=\"text-align: right;\">\n",
       "      <th></th>\n",
       "      <th>first</th>\n",
       "      <th>last</th>\n",
       "      <th>email</th>\n",
       "    </tr>\n",
       "  </thead>\n",
       "  <tbody>\n",
       "    <tr>\n",
       "      <th>0</th>\n",
       "      <td>Peter</td>\n",
       "      <td>Robie</td>\n",
       "      <td>PeterRobie@gmail.com</td>\n",
       "    </tr>\n",
       "    <tr>\n",
       "      <th>1</th>\n",
       "      <td>Robert</td>\n",
       "      <td>Don</td>\n",
       "      <td>RobertDon@gmail.com</td>\n",
       "    </tr>\n",
       "    <tr>\n",
       "      <th>2</th>\n",
       "      <td>Thomas</td>\n",
       "      <td>Don</td>\n",
       "      <td>ThomasDon@gmail.com</td>\n",
       "    </tr>\n",
       "  </tbody>\n",
       "</table>\n",
       "</div>"
      ],
      "text/plain": [
       "    first   last                 email\n",
       "0   Peter  Robie  PeterRobie@gmail.com\n",
       "1  Robert    Don   RobertDon@gmail.com\n",
       "2  Thomas    Don   ThomasDon@gmail.com"
      ]
     },
     "execution_count": 38,
     "metadata": {},
     "output_type": "execute_result"
    }
   ],
   "source": [
    "df"
   ]
  },
  {
   "cell_type": "code",
   "execution_count": 39,
   "id": "09e98b7b-ac69-4b21-8f43-2748636aeaa7",
   "metadata": {},
   "outputs": [
    {
     "data": {
      "text/plain": [
       "Index(['first', 'last', 'email'], dtype='object')"
      ]
     },
     "execution_count": 39,
     "metadata": {},
     "output_type": "execute_result"
    }
   ],
   "source": [
    "df.columns"
   ]
  },
  {
   "cell_type": "markdown",
   "id": "f9afb8c1-b9ef-4e2a-9e5e-e163005fd25a",
   "metadata": {},
   "source": [
    " ### Change Column(s) names"
   ]
  },
  {
   "cell_type": "code",
   "execution_count": 40,
   "id": "1ed945ba-24fa-4efa-a5ab-4f7fa212c49f",
   "metadata": {},
   "outputs": [],
   "source": [
    "df.columns = ['first_name','last_name','email']"
   ]
  },
  {
   "cell_type": "code",
   "execution_count": 41,
   "id": "b54648f2-6584-4d63-bacd-13445cb62fef",
   "metadata": {},
   "outputs": [
    {
     "data": {
      "text/html": [
       "<div>\n",
       "<style scoped>\n",
       "    .dataframe tbody tr th:only-of-type {\n",
       "        vertical-align: middle;\n",
       "    }\n",
       "\n",
       "    .dataframe tbody tr th {\n",
       "        vertical-align: top;\n",
       "    }\n",
       "\n",
       "    .dataframe thead th {\n",
       "        text-align: right;\n",
       "    }\n",
       "</style>\n",
       "<table border=\"1\" class=\"dataframe\">\n",
       "  <thead>\n",
       "    <tr style=\"text-align: right;\">\n",
       "      <th></th>\n",
       "      <th>first_name</th>\n",
       "      <th>last_name</th>\n",
       "      <th>email</th>\n",
       "    </tr>\n",
       "  </thead>\n",
       "  <tbody>\n",
       "    <tr>\n",
       "      <th>0</th>\n",
       "      <td>Peter</td>\n",
       "      <td>Robie</td>\n",
       "      <td>PeterRobie@gmail.com</td>\n",
       "    </tr>\n",
       "    <tr>\n",
       "      <th>1</th>\n",
       "      <td>Robert</td>\n",
       "      <td>Don</td>\n",
       "      <td>RobertDon@gmail.com</td>\n",
       "    </tr>\n",
       "    <tr>\n",
       "      <th>2</th>\n",
       "      <td>Thomas</td>\n",
       "      <td>Don</td>\n",
       "      <td>ThomasDon@gmail.com</td>\n",
       "    </tr>\n",
       "  </tbody>\n",
       "</table>\n",
       "</div>"
      ],
      "text/plain": [
       "  first_name last_name                 email\n",
       "0      Peter     Robie  PeterRobie@gmail.com\n",
       "1     Robert       Don   RobertDon@gmail.com\n",
       "2     Thomas       Don   ThomasDon@gmail.com"
      ]
     },
     "execution_count": 41,
     "metadata": {},
     "output_type": "execute_result"
    }
   ],
   "source": [
    "df"
   ]
  },
  {
   "cell_type": "markdown",
   "id": "fa01c1b8-2b57-4ade-9bf0-5312d2c16f47",
   "metadata": {},
   "source": [
    "### Change Columns Case Using List Comprehension"
   ]
  },
  {
   "cell_type": "code",
   "execution_count": 42,
   "id": "3fa2ded8-6fd2-45a4-ad3c-4c539add8130",
   "metadata": {},
   "outputs": [],
   "source": [
    "df.columns = [x.upper() for x in df.columns]"
   ]
  },
  {
   "cell_type": "code",
   "execution_count": 43,
   "id": "bb32c319-db38-40ed-b658-364188e3783f",
   "metadata": {},
   "outputs": [
    {
     "data": {
      "text/html": [
       "<div>\n",
       "<style scoped>\n",
       "    .dataframe tbody tr th:only-of-type {\n",
       "        vertical-align: middle;\n",
       "    }\n",
       "\n",
       "    .dataframe tbody tr th {\n",
       "        vertical-align: top;\n",
       "    }\n",
       "\n",
       "    .dataframe thead th {\n",
       "        text-align: right;\n",
       "    }\n",
       "</style>\n",
       "<table border=\"1\" class=\"dataframe\">\n",
       "  <thead>\n",
       "    <tr style=\"text-align: right;\">\n",
       "      <th></th>\n",
       "      <th>FIRST_NAME</th>\n",
       "      <th>LAST_NAME</th>\n",
       "      <th>EMAIL</th>\n",
       "    </tr>\n",
       "  </thead>\n",
       "  <tbody>\n",
       "    <tr>\n",
       "      <th>0</th>\n",
       "      <td>Peter</td>\n",
       "      <td>Robie</td>\n",
       "      <td>PeterRobie@gmail.com</td>\n",
       "    </tr>\n",
       "    <tr>\n",
       "      <th>1</th>\n",
       "      <td>Robert</td>\n",
       "      <td>Don</td>\n",
       "      <td>RobertDon@gmail.com</td>\n",
       "    </tr>\n",
       "    <tr>\n",
       "      <th>2</th>\n",
       "      <td>Thomas</td>\n",
       "      <td>Don</td>\n",
       "      <td>ThomasDon@gmail.com</td>\n",
       "    </tr>\n",
       "  </tbody>\n",
       "</table>\n",
       "</div>"
      ],
      "text/plain": [
       "  FIRST_NAME LAST_NAME                 EMAIL\n",
       "0      Peter     Robie  PeterRobie@gmail.com\n",
       "1     Robert       Don   RobertDon@gmail.com\n",
       "2     Thomas       Don   ThomasDon@gmail.com"
      ]
     },
     "execution_count": 43,
     "metadata": {},
     "output_type": "execute_result"
    }
   ],
   "source": [
    "df"
   ]
  },
  {
   "cell_type": "markdown",
   "id": "2d162527-967d-4fd6-a201-dc6f45723ade",
   "metadata": {},
   "source": [
    "### Remove spaces using str (string)"
   ]
  },
  {
   "cell_type": "code",
   "execution_count": 44,
   "id": "b0208f3d-4d38-4971-9a02-6734f6a68912",
   "metadata": {},
   "outputs": [],
   "source": [
    "# df.columns = df.columns.str.replace(' ', '_')\n",
    "\n",
    "#df"
   ]
  },
  {
   "cell_type": "code",
   "execution_count": 45,
   "id": "1cd0e9ab-7277-4dcf-93e1-4b6b01be067b",
   "metadata": {},
   "outputs": [
    {
     "data": {
      "text/html": [
       "<div>\n",
       "<style scoped>\n",
       "    .dataframe tbody tr th:only-of-type {\n",
       "        vertical-align: middle;\n",
       "    }\n",
       "\n",
       "    .dataframe tbody tr th {\n",
       "        vertical-align: top;\n",
       "    }\n",
       "\n",
       "    .dataframe thead th {\n",
       "        text-align: right;\n",
       "    }\n",
       "</style>\n",
       "<table border=\"1\" class=\"dataframe\">\n",
       "  <thead>\n",
       "    <tr style=\"text-align: right;\">\n",
       "      <th></th>\n",
       "      <th>FIRST_NAME</th>\n",
       "      <th>LAST_NAME</th>\n",
       "      <th>EMAIL</th>\n",
       "    </tr>\n",
       "  </thead>\n",
       "  <tbody>\n",
       "    <tr>\n",
       "      <th>0</th>\n",
       "      <td>Peter</td>\n",
       "      <td>Robie</td>\n",
       "      <td>PeterRobie@gmail.com</td>\n",
       "    </tr>\n",
       "    <tr>\n",
       "      <th>1</th>\n",
       "      <td>Robert</td>\n",
       "      <td>Don</td>\n",
       "      <td>RobertDon@gmail.com</td>\n",
       "    </tr>\n",
       "    <tr>\n",
       "      <th>2</th>\n",
       "      <td>Thomas</td>\n",
       "      <td>Don</td>\n",
       "      <td>ThomasDon@gmail.com</td>\n",
       "    </tr>\n",
       "  </tbody>\n",
       "</table>\n",
       "</div>"
      ],
      "text/plain": [
       "  FIRST_NAME LAST_NAME                 EMAIL\n",
       "0      Peter     Robie  PeterRobie@gmail.com\n",
       "1     Robert       Don   RobertDon@gmail.com\n",
       "2     Thomas       Don   ThomasDon@gmail.com"
      ]
     },
     "execution_count": 45,
     "metadata": {},
     "output_type": "execute_result"
    }
   ],
   "source": [
    "df"
   ]
  },
  {
   "cell_type": "markdown",
   "id": "d513fd53-6826-4515-958d-658842221b83",
   "metadata": {},
   "source": [
    "### Change columns to Lower case"
   ]
  },
  {
   "cell_type": "code",
   "execution_count": 46,
   "id": "ea0c522a-4907-4867-8bb2-95591988123e",
   "metadata": {},
   "outputs": [
    {
     "data": {
      "text/html": [
       "<div>\n",
       "<style scoped>\n",
       "    .dataframe tbody tr th:only-of-type {\n",
       "        vertical-align: middle;\n",
       "    }\n",
       "\n",
       "    .dataframe tbody tr th {\n",
       "        vertical-align: top;\n",
       "    }\n",
       "\n",
       "    .dataframe thead th {\n",
       "        text-align: right;\n",
       "    }\n",
       "</style>\n",
       "<table border=\"1\" class=\"dataframe\">\n",
       "  <thead>\n",
       "    <tr style=\"text-align: right;\">\n",
       "      <th></th>\n",
       "      <th>first_name</th>\n",
       "      <th>last_name</th>\n",
       "      <th>email</th>\n",
       "    </tr>\n",
       "  </thead>\n",
       "  <tbody>\n",
       "    <tr>\n",
       "      <th>0</th>\n",
       "      <td>Peter</td>\n",
       "      <td>Robie</td>\n",
       "      <td>PeterRobie@gmail.com</td>\n",
       "    </tr>\n",
       "    <tr>\n",
       "      <th>1</th>\n",
       "      <td>Robert</td>\n",
       "      <td>Don</td>\n",
       "      <td>RobertDon@gmail.com</td>\n",
       "    </tr>\n",
       "    <tr>\n",
       "      <th>2</th>\n",
       "      <td>Thomas</td>\n",
       "      <td>Don</td>\n",
       "      <td>ThomasDon@gmail.com</td>\n",
       "    </tr>\n",
       "  </tbody>\n",
       "</table>\n",
       "</div>"
      ],
      "text/plain": [
       "  first_name last_name                 email\n",
       "0      Peter     Robie  PeterRobie@gmail.com\n",
       "1     Robert       Don   RobertDon@gmail.com\n",
       "2     Thomas       Don   ThomasDon@gmail.com"
      ]
     },
     "execution_count": 46,
     "metadata": {},
     "output_type": "execute_result"
    }
   ],
   "source": [
    "df.columns = [x.lower() for x in df.columns]\n",
    "df"
   ]
  },
  {
   "cell_type": "markdown",
   "id": "e8355646-9651-4e3b-a332-0cc4646d378a",
   "metadata": {},
   "source": [
    "### Rename columns and include \"inplace=True\" to make it effective"
   ]
  },
  {
   "cell_type": "code",
   "execution_count": 47,
   "id": "4e5f7f4d-84da-434b-aa1d-5d3d816097a1",
   "metadata": {},
   "outputs": [],
   "source": [
    "df.rename(columns={'first_name': 'first', 'last_name': 'last'}, inplace=True)"
   ]
  },
  {
   "cell_type": "code",
   "execution_count": 48,
   "id": "17d98e74-a7c0-47e5-87ef-7e1335e0a8b5",
   "metadata": {},
   "outputs": [
    {
     "data": {
      "text/html": [
       "<div>\n",
       "<style scoped>\n",
       "    .dataframe tbody tr th:only-of-type {\n",
       "        vertical-align: middle;\n",
       "    }\n",
       "\n",
       "    .dataframe tbody tr th {\n",
       "        vertical-align: top;\n",
       "    }\n",
       "\n",
       "    .dataframe thead th {\n",
       "        text-align: right;\n",
       "    }\n",
       "</style>\n",
       "<table border=\"1\" class=\"dataframe\">\n",
       "  <thead>\n",
       "    <tr style=\"text-align: right;\">\n",
       "      <th></th>\n",
       "      <th>first</th>\n",
       "      <th>last</th>\n",
       "      <th>email</th>\n",
       "    </tr>\n",
       "  </thead>\n",
       "  <tbody>\n",
       "    <tr>\n",
       "      <th>0</th>\n",
       "      <td>Peter</td>\n",
       "      <td>Robie</td>\n",
       "      <td>PeterRobie@gmail.com</td>\n",
       "    </tr>\n",
       "    <tr>\n",
       "      <th>1</th>\n",
       "      <td>Robert</td>\n",
       "      <td>Don</td>\n",
       "      <td>RobertDon@gmail.com</td>\n",
       "    </tr>\n",
       "    <tr>\n",
       "      <th>2</th>\n",
       "      <td>Thomas</td>\n",
       "      <td>Don</td>\n",
       "      <td>ThomasDon@gmail.com</td>\n",
       "    </tr>\n",
       "  </tbody>\n",
       "</table>\n",
       "</div>"
      ],
      "text/plain": [
       "    first   last                 email\n",
       "0   Peter  Robie  PeterRobie@gmail.com\n",
       "1  Robert    Don   RobertDon@gmail.com\n",
       "2  Thomas    Don   ThomasDon@gmail.com"
      ]
     },
     "execution_count": 48,
     "metadata": {},
     "output_type": "execute_result"
    }
   ],
   "source": [
    "df"
   ]
  },
  {
   "cell_type": "markdown",
   "id": "c4edd759-79d5-4e62-aecb-6c8641022a62",
   "metadata": {},
   "source": [
    "## Update Data in Rows"
   ]
  },
  {
   "cell_type": "code",
   "execution_count": 49,
   "id": "a2515caf-5dfa-48d9-ad1a-6448fb61d981",
   "metadata": {},
   "outputs": [
    {
     "data": {
      "text/plain": [
       "first                 Thomas\n",
       "last                     Don\n",
       "email    ThomasDon@gmail.com\n",
       "Name: 2, dtype: object"
      ]
     },
     "execution_count": 49,
     "metadata": {},
     "output_type": "execute_result"
    }
   ],
   "source": [
    "# updating the last row\n",
    "# print to confirm the last row\n",
    "df.loc[2]"
   ]
  },
  {
   "cell_type": "code",
   "execution_count": 50,
   "id": "d321b213-abfe-466f-9d3c-d3dacfa0750c",
   "metadata": {},
   "outputs": [],
   "source": [
    "# df.loc[2] = ['Thomas', 'Kennedy', 'ThomasKennedy@gmail.com']"
   ]
  },
  {
   "cell_type": "code",
   "execution_count": 51,
   "id": "81a233ae-5c04-449a-8553-6fe1e06f0a20",
   "metadata": {},
   "outputs": [
    {
     "data": {
      "text/html": [
       "<div>\n",
       "<style scoped>\n",
       "    .dataframe tbody tr th:only-of-type {\n",
       "        vertical-align: middle;\n",
       "    }\n",
       "\n",
       "    .dataframe tbody tr th {\n",
       "        vertical-align: top;\n",
       "    }\n",
       "\n",
       "    .dataframe thead th {\n",
       "        text-align: right;\n",
       "    }\n",
       "</style>\n",
       "<table border=\"1\" class=\"dataframe\">\n",
       "  <thead>\n",
       "    <tr style=\"text-align: right;\">\n",
       "      <th></th>\n",
       "      <th>first</th>\n",
       "      <th>last</th>\n",
       "      <th>email</th>\n",
       "    </tr>\n",
       "  </thead>\n",
       "  <tbody>\n",
       "    <tr>\n",
       "      <th>0</th>\n",
       "      <td>Peter</td>\n",
       "      <td>Robie</td>\n",
       "      <td>PeterRobie@gmail.com</td>\n",
       "    </tr>\n",
       "    <tr>\n",
       "      <th>1</th>\n",
       "      <td>Robert</td>\n",
       "      <td>Don</td>\n",
       "      <td>RobertDon@gmail.com</td>\n",
       "    </tr>\n",
       "    <tr>\n",
       "      <th>2</th>\n",
       "      <td>Thomas</td>\n",
       "      <td>Don</td>\n",
       "      <td>ThomasDon@gmail.com</td>\n",
       "    </tr>\n",
       "  </tbody>\n",
       "</table>\n",
       "</div>"
      ],
      "text/plain": [
       "    first   last                 email\n",
       "0   Peter  Robie  PeterRobie@gmail.com\n",
       "1  Robert    Don   RobertDon@gmail.com\n",
       "2  Thomas    Don   ThomasDon@gmail.com"
      ]
     },
     "execution_count": 51,
     "metadata": {},
     "output_type": "execute_result"
    }
   ],
   "source": [
    "df"
   ]
  },
  {
   "cell_type": "code",
   "execution_count": 52,
   "id": "8573dc84-43d1-4867-b7aa-677cc130653c",
   "metadata": {},
   "outputs": [
    {
     "data": {
      "text/plain": [
       "last                     Don\n",
       "email    ThomasDon@gmail.com\n",
       "Name: 2, dtype: object"
      ]
     },
     "execution_count": 52,
     "metadata": {},
     "output_type": "execute_result"
    }
   ],
   "source": [
    "df.loc[2, ['last','email']]"
   ]
  },
  {
   "cell_type": "code",
   "execution_count": 53,
   "id": "4890c9d2-0290-43e2-8719-4918a8a21165",
   "metadata": {},
   "outputs": [],
   "source": [
    "df.loc[2, ['last','email']] = ['Kennedy', 'ThomasKennedy@gmail.com']"
   ]
  },
  {
   "cell_type": "code",
   "execution_count": 54,
   "id": "aee3e5d3-9a64-41c0-a594-67207e2a6f12",
   "metadata": {},
   "outputs": [
    {
     "data": {
      "text/html": [
       "<div>\n",
       "<style scoped>\n",
       "    .dataframe tbody tr th:only-of-type {\n",
       "        vertical-align: middle;\n",
       "    }\n",
       "\n",
       "    .dataframe tbody tr th {\n",
       "        vertical-align: top;\n",
       "    }\n",
       "\n",
       "    .dataframe thead th {\n",
       "        text-align: right;\n",
       "    }\n",
       "</style>\n",
       "<table border=\"1\" class=\"dataframe\">\n",
       "  <thead>\n",
       "    <tr style=\"text-align: right;\">\n",
       "      <th></th>\n",
       "      <th>first</th>\n",
       "      <th>last</th>\n",
       "      <th>email</th>\n",
       "    </tr>\n",
       "  </thead>\n",
       "  <tbody>\n",
       "    <tr>\n",
       "      <th>0</th>\n",
       "      <td>Peter</td>\n",
       "      <td>Robie</td>\n",
       "      <td>PeterRobie@gmail.com</td>\n",
       "    </tr>\n",
       "    <tr>\n",
       "      <th>1</th>\n",
       "      <td>Robert</td>\n",
       "      <td>Don</td>\n",
       "      <td>RobertDon@gmail.com</td>\n",
       "    </tr>\n",
       "    <tr>\n",
       "      <th>2</th>\n",
       "      <td>Thomas</td>\n",
       "      <td>Kennedy</td>\n",
       "      <td>ThomasKennedy@gmail.com</td>\n",
       "    </tr>\n",
       "  </tbody>\n",
       "</table>\n",
       "</div>"
      ],
      "text/plain": [
       "    first     last                    email\n",
       "0   Peter    Robie     PeterRobie@gmail.com\n",
       "1  Robert      Don      RobertDon@gmail.com\n",
       "2  Thomas  Kennedy  ThomasKennedy@gmail.com"
      ]
     },
     "execution_count": 54,
     "metadata": {},
     "output_type": "execute_result"
    }
   ],
   "source": [
    "df"
   ]
  },
  {
   "cell_type": "code",
   "execution_count": 55,
   "id": "076e1b76-04eb-4221-ae1d-48c6ff5767dd",
   "metadata": {},
   "outputs": [],
   "source": [
    "df.loc[2, ['last','email']] = ['Don', 'ThomasDon@gmail.com']"
   ]
  },
  {
   "cell_type": "code",
   "execution_count": 56,
   "id": "658ea307-8019-466f-b545-17d6e79084fc",
   "metadata": {},
   "outputs": [
    {
     "data": {
      "text/html": [
       "<div>\n",
       "<style scoped>\n",
       "    .dataframe tbody tr th:only-of-type {\n",
       "        vertical-align: middle;\n",
       "    }\n",
       "\n",
       "    .dataframe tbody tr th {\n",
       "        vertical-align: top;\n",
       "    }\n",
       "\n",
       "    .dataframe thead th {\n",
       "        text-align: right;\n",
       "    }\n",
       "</style>\n",
       "<table border=\"1\" class=\"dataframe\">\n",
       "  <thead>\n",
       "    <tr style=\"text-align: right;\">\n",
       "      <th></th>\n",
       "      <th>first</th>\n",
       "      <th>last</th>\n",
       "      <th>email</th>\n",
       "    </tr>\n",
       "  </thead>\n",
       "  <tbody>\n",
       "    <tr>\n",
       "      <th>0</th>\n",
       "      <td>Peter</td>\n",
       "      <td>Robie</td>\n",
       "      <td>PeterRobie@gmail.com</td>\n",
       "    </tr>\n",
       "    <tr>\n",
       "      <th>1</th>\n",
       "      <td>Robert</td>\n",
       "      <td>Don</td>\n",
       "      <td>RobertDon@gmail.com</td>\n",
       "    </tr>\n",
       "    <tr>\n",
       "      <th>2</th>\n",
       "      <td>Thomas</td>\n",
       "      <td>Don</td>\n",
       "      <td>ThomasDon@gmail.com</td>\n",
       "    </tr>\n",
       "  </tbody>\n",
       "</table>\n",
       "</div>"
      ],
      "text/plain": [
       "    first   last                 email\n",
       "0   Peter  Robie  PeterRobie@gmail.com\n",
       "1  Robert    Don   RobertDon@gmail.com\n",
       "2  Thomas    Don   ThomasDon@gmail.com"
      ]
     },
     "execution_count": 56,
     "metadata": {},
     "output_type": "execute_result"
    }
   ],
   "source": [
    "df"
   ]
  },
  {
   "cell_type": "markdown",
   "id": "7886b214-6512-4c9d-ad05-679175822415",
   "metadata": {},
   "source": [
    "### Change a single value"
   ]
  },
  {
   "cell_type": "code",
   "execution_count": 57,
   "id": "3f8f26a3-8c4f-4a62-98b5-cb4ce47176c3",
   "metadata": {},
   "outputs": [],
   "source": [
    "df.loc[2, 'last'] = 'Smith'"
   ]
  },
  {
   "cell_type": "code",
   "execution_count": 58,
   "id": "d9194057-604e-4059-b877-20eaae8ea8eb",
   "metadata": {},
   "outputs": [
    {
     "data": {
      "text/html": [
       "<div>\n",
       "<style scoped>\n",
       "    .dataframe tbody tr th:only-of-type {\n",
       "        vertical-align: middle;\n",
       "    }\n",
       "\n",
       "    .dataframe tbody tr th {\n",
       "        vertical-align: top;\n",
       "    }\n",
       "\n",
       "    .dataframe thead th {\n",
       "        text-align: right;\n",
       "    }\n",
       "</style>\n",
       "<table border=\"1\" class=\"dataframe\">\n",
       "  <thead>\n",
       "    <tr style=\"text-align: right;\">\n",
       "      <th></th>\n",
       "      <th>first</th>\n",
       "      <th>last</th>\n",
       "      <th>email</th>\n",
       "    </tr>\n",
       "  </thead>\n",
       "  <tbody>\n",
       "    <tr>\n",
       "      <th>0</th>\n",
       "      <td>Peter</td>\n",
       "      <td>Robie</td>\n",
       "      <td>PeterRobie@gmail.com</td>\n",
       "    </tr>\n",
       "    <tr>\n",
       "      <th>1</th>\n",
       "      <td>Robert</td>\n",
       "      <td>Don</td>\n",
       "      <td>RobertDon@gmail.com</td>\n",
       "    </tr>\n",
       "    <tr>\n",
       "      <th>2</th>\n",
       "      <td>Thomas</td>\n",
       "      <td>Smith</td>\n",
       "      <td>ThomasDon@gmail.com</td>\n",
       "    </tr>\n",
       "  </tbody>\n",
       "</table>\n",
       "</div>"
      ],
      "text/plain": [
       "    first   last                 email\n",
       "0   Peter  Robie  PeterRobie@gmail.com\n",
       "1  Robert    Don   RobertDon@gmail.com\n",
       "2  Thomas  Smith   ThomasDon@gmail.com"
      ]
     },
     "execution_count": 58,
     "metadata": {},
     "output_type": "execute_result"
    }
   ],
   "source": [
    "df"
   ]
  },
  {
   "cell_type": "markdown",
   "id": "03456a95-6a5e-411f-8068-e241b39b164b",
   "metadata": {},
   "source": [
    "### Change using '.AT' "
   ]
  },
  {
   "cell_type": "code",
   "execution_count": 59,
   "id": "61b926a2-c488-4afc-b7ad-82d3893d25ee",
   "metadata": {},
   "outputs": [],
   "source": [
    "df.at[2, 'last'] = 'Don'"
   ]
  },
  {
   "cell_type": "code",
   "execution_count": 60,
   "id": "480d87bf-cd80-4785-9cf1-5e3e4a741f06",
   "metadata": {},
   "outputs": [
    {
     "data": {
      "text/html": [
       "<div>\n",
       "<style scoped>\n",
       "    .dataframe tbody tr th:only-of-type {\n",
       "        vertical-align: middle;\n",
       "    }\n",
       "\n",
       "    .dataframe tbody tr th {\n",
       "        vertical-align: top;\n",
       "    }\n",
       "\n",
       "    .dataframe thead th {\n",
       "        text-align: right;\n",
       "    }\n",
       "</style>\n",
       "<table border=\"1\" class=\"dataframe\">\n",
       "  <thead>\n",
       "    <tr style=\"text-align: right;\">\n",
       "      <th></th>\n",
       "      <th>first</th>\n",
       "      <th>last</th>\n",
       "      <th>email</th>\n",
       "    </tr>\n",
       "  </thead>\n",
       "  <tbody>\n",
       "    <tr>\n",
       "      <th>0</th>\n",
       "      <td>Peter</td>\n",
       "      <td>Robie</td>\n",
       "      <td>PeterRobie@gmail.com</td>\n",
       "    </tr>\n",
       "    <tr>\n",
       "      <th>1</th>\n",
       "      <td>Robert</td>\n",
       "      <td>Don</td>\n",
       "      <td>RobertDon@gmail.com</td>\n",
       "    </tr>\n",
       "    <tr>\n",
       "      <th>2</th>\n",
       "      <td>Thomas</td>\n",
       "      <td>Don</td>\n",
       "      <td>ThomasDon@gmail.com</td>\n",
       "    </tr>\n",
       "  </tbody>\n",
       "</table>\n",
       "</div>"
      ],
      "text/plain": [
       "    first   last                 email\n",
       "0   Peter  Robie  PeterRobie@gmail.com\n",
       "1  Robert    Don   RobertDon@gmail.com\n",
       "2  Thomas    Don   ThomasDon@gmail.com"
      ]
     },
     "execution_count": 60,
     "metadata": {},
     "output_type": "execute_result"
    }
   ],
   "source": [
    "df"
   ]
  },
  {
   "cell_type": "markdown",
   "id": "3259ccf5-0073-4e13-8f98-75d90b4e2d8a",
   "metadata": {},
   "source": [
    "## Setting With Copy Warning"
   ]
  },
  {
   "cell_type": "code",
   "execution_count": 65,
   "id": "eb4761d0-36fe-4860-b1ee-5515ee998e48",
   "metadata": {},
   "outputs": [
    {
     "name": "stderr",
     "output_type": "stream",
     "text": [
      "/tmp/ipykernel_22795/2233772575.py:2: SettingWithCopyWarning: \n",
      "A value is trying to be set on a copy of a slice from a DataFrame.\n",
      "Try using .loc[row_indexer,col_indexer] = value instead\n",
      "\n",
      "See the caveats in the documentation: https://pandas.pydata.org/pandas-docs/stable/user_guide/indexing.html#returning-a-view-versus-a-copy\n",
      "  df[filt]['last']  = 'Smith'\n"
     ]
    }
   ],
   "source": [
    "filt = (df['email'] == \"ThomasDon@gmail.com\")\n",
    "df[filt]['last']  = 'Smith'"
   ]
  },
  {
   "cell_type": "code",
   "execution_count": 66,
   "id": "56ebd3d5-9301-4dff-af74-eb944e5ceced",
   "metadata": {},
   "outputs": [
    {
     "data": {
      "text/html": [
       "<div>\n",
       "<style scoped>\n",
       "    .dataframe tbody tr th:only-of-type {\n",
       "        vertical-align: middle;\n",
       "    }\n",
       "\n",
       "    .dataframe tbody tr th {\n",
       "        vertical-align: top;\n",
       "    }\n",
       "\n",
       "    .dataframe thead th {\n",
       "        text-align: right;\n",
       "    }\n",
       "</style>\n",
       "<table border=\"1\" class=\"dataframe\">\n",
       "  <thead>\n",
       "    <tr style=\"text-align: right;\">\n",
       "      <th></th>\n",
       "      <th>first</th>\n",
       "      <th>last</th>\n",
       "      <th>email</th>\n",
       "    </tr>\n",
       "  </thead>\n",
       "  <tbody>\n",
       "    <tr>\n",
       "      <th>0</th>\n",
       "      <td>Peter</td>\n",
       "      <td>Robie</td>\n",
       "      <td>PeterRobie@gmail.com</td>\n",
       "    </tr>\n",
       "    <tr>\n",
       "      <th>1</th>\n",
       "      <td>Robert</td>\n",
       "      <td>Don</td>\n",
       "      <td>RobertDon@gmail.com</td>\n",
       "    </tr>\n",
       "    <tr>\n",
       "      <th>2</th>\n",
       "      <td>Thomas</td>\n",
       "      <td>Don</td>\n",
       "      <td>ThomasDon@gmail.com</td>\n",
       "    </tr>\n",
       "  </tbody>\n",
       "</table>\n",
       "</div>"
      ],
      "text/plain": [
       "    first   last                 email\n",
       "0   Peter  Robie  PeterRobie@gmail.com\n",
       "1  Robert    Don   RobertDon@gmail.com\n",
       "2  Thomas    Don   ThomasDon@gmail.com"
      ]
     },
     "execution_count": 66,
     "metadata": {},
     "output_type": "execute_result"
    }
   ],
   "source": [
    "df"
   ]
  },
  {
   "cell_type": "markdown",
   "id": "7b2d2ee5-0963-4a7a-9397-c83d1cdc280f",
   "metadata": {},
   "source": [
    "### Correction of Copy with Warning Error above "
   ]
  },
  {
   "cell_type": "code",
   "execution_count": 67,
   "id": "deaa0181-c920-4d86-a077-9ec6dbcc6712",
   "metadata": {},
   "outputs": [],
   "source": [
    "filt = (df['email'] == \"ThomasDon@gmail.com\")\n",
    "df.loc[filt, 'last']  = 'Smith'"
   ]
  },
  {
   "cell_type": "code",
   "execution_count": 68,
   "id": "3739d991-5910-4b4a-9521-a052df216440",
   "metadata": {},
   "outputs": [
    {
     "data": {
      "text/html": [
       "<div>\n",
       "<style scoped>\n",
       "    .dataframe tbody tr th:only-of-type {\n",
       "        vertical-align: middle;\n",
       "    }\n",
       "\n",
       "    .dataframe tbody tr th {\n",
       "        vertical-align: top;\n",
       "    }\n",
       "\n",
       "    .dataframe thead th {\n",
       "        text-align: right;\n",
       "    }\n",
       "</style>\n",
       "<table border=\"1\" class=\"dataframe\">\n",
       "  <thead>\n",
       "    <tr style=\"text-align: right;\">\n",
       "      <th></th>\n",
       "      <th>first</th>\n",
       "      <th>last</th>\n",
       "      <th>email</th>\n",
       "    </tr>\n",
       "  </thead>\n",
       "  <tbody>\n",
       "    <tr>\n",
       "      <th>0</th>\n",
       "      <td>Peter</td>\n",
       "      <td>Robie</td>\n",
       "      <td>PeterRobie@gmail.com</td>\n",
       "    </tr>\n",
       "    <tr>\n",
       "      <th>1</th>\n",
       "      <td>Robert</td>\n",
       "      <td>Don</td>\n",
       "      <td>RobertDon@gmail.com</td>\n",
       "    </tr>\n",
       "    <tr>\n",
       "      <th>2</th>\n",
       "      <td>Thomas</td>\n",
       "      <td>Smith</td>\n",
       "      <td>ThomasDon@gmail.com</td>\n",
       "    </tr>\n",
       "  </tbody>\n",
       "</table>\n",
       "</div>"
      ],
      "text/plain": [
       "    first   last                 email\n",
       "0   Peter  Robie  PeterRobie@gmail.com\n",
       "1  Robert    Don   RobertDon@gmail.com\n",
       "2  Thomas  Smith   ThomasDon@gmail.com"
      ]
     },
     "execution_count": 68,
     "metadata": {},
     "output_type": "execute_result"
    }
   ],
   "source": [
    "df"
   ]
  },
  {
   "cell_type": "markdown",
   "id": "f118853c-432e-496c-8355-4dcc0b8123df",
   "metadata": {},
   "source": [
    "### Lower Case Email"
   ]
  },
  {
   "cell_type": "code",
   "execution_count": 70,
   "id": "5538f319-3d6e-4023-8d57-180c46e707fd",
   "metadata": {},
   "outputs": [
    {
     "data": {
      "text/plain": [
       "0    peterrobie@gmail.com\n",
       "1     robertdon@gmail.com\n",
       "2     thomasdon@gmail.com\n",
       "Name: email, dtype: object"
      ]
     },
     "execution_count": 70,
     "metadata": {},
     "output_type": "execute_result"
    }
   ],
   "source": [
    "# try to check if there are any changes. ??\n",
    "df['email'].str.lower()\n"
   ]
  },
  {
   "cell_type": "code",
   "execution_count": 71,
   "id": "1d6ceae0-4301-4526-96b7-70268d4ab62b",
   "metadata": {},
   "outputs": [
    {
     "data": {
      "text/html": [
       "<div>\n",
       "<style scoped>\n",
       "    .dataframe tbody tr th:only-of-type {\n",
       "        vertical-align: middle;\n",
       "    }\n",
       "\n",
       "    .dataframe tbody tr th {\n",
       "        vertical-align: top;\n",
       "    }\n",
       "\n",
       "    .dataframe thead th {\n",
       "        text-align: right;\n",
       "    }\n",
       "</style>\n",
       "<table border=\"1\" class=\"dataframe\">\n",
       "  <thead>\n",
       "    <tr style=\"text-align: right;\">\n",
       "      <th></th>\n",
       "      <th>first</th>\n",
       "      <th>last</th>\n",
       "      <th>email</th>\n",
       "    </tr>\n",
       "  </thead>\n",
       "  <tbody>\n",
       "    <tr>\n",
       "      <th>0</th>\n",
       "      <td>Peter</td>\n",
       "      <td>Robie</td>\n",
       "      <td>PeterRobie@gmail.com</td>\n",
       "    </tr>\n",
       "    <tr>\n",
       "      <th>1</th>\n",
       "      <td>Robert</td>\n",
       "      <td>Don</td>\n",
       "      <td>RobertDon@gmail.com</td>\n",
       "    </tr>\n",
       "    <tr>\n",
       "      <th>2</th>\n",
       "      <td>Thomas</td>\n",
       "      <td>Smith</td>\n",
       "      <td>ThomasDon@gmail.com</td>\n",
       "    </tr>\n",
       "  </tbody>\n",
       "</table>\n",
       "</div>"
      ],
      "text/plain": [
       "    first   last                 email\n",
       "0   Peter  Robie  PeterRobie@gmail.com\n",
       "1  Robert    Don   RobertDon@gmail.com\n",
       "2  Thomas  Smith   ThomasDon@gmail.com"
      ]
     },
     "execution_count": 71,
     "metadata": {},
     "output_type": "execute_result"
    }
   ],
   "source": [
    "# No changes on the DataFrame\n",
    "df"
   ]
  },
  {
   "cell_type": "code",
   "execution_count": 72,
   "id": "acadd428-c1e9-4807-84b4-31c5fd61ec95",
   "metadata": {},
   "outputs": [],
   "source": [
    "# Effective changes\n",
    "df['email'] = df['email'].str.lower()"
   ]
  },
  {
   "cell_type": "code",
   "execution_count": 73,
   "id": "9c9cc8d0-6f15-49b9-bcda-ebaca5bef667",
   "metadata": {},
   "outputs": [
    {
     "data": {
      "text/html": [
       "<div>\n",
       "<style scoped>\n",
       "    .dataframe tbody tr th:only-of-type {\n",
       "        vertical-align: middle;\n",
       "    }\n",
       "\n",
       "    .dataframe tbody tr th {\n",
       "        vertical-align: top;\n",
       "    }\n",
       "\n",
       "    .dataframe thead th {\n",
       "        text-align: right;\n",
       "    }\n",
       "</style>\n",
       "<table border=\"1\" class=\"dataframe\">\n",
       "  <thead>\n",
       "    <tr style=\"text-align: right;\">\n",
       "      <th></th>\n",
       "      <th>first</th>\n",
       "      <th>last</th>\n",
       "      <th>email</th>\n",
       "    </tr>\n",
       "  </thead>\n",
       "  <tbody>\n",
       "    <tr>\n",
       "      <th>0</th>\n",
       "      <td>Peter</td>\n",
       "      <td>Robie</td>\n",
       "      <td>peterrobie@gmail.com</td>\n",
       "    </tr>\n",
       "    <tr>\n",
       "      <th>1</th>\n",
       "      <td>Robert</td>\n",
       "      <td>Don</td>\n",
       "      <td>robertdon@gmail.com</td>\n",
       "    </tr>\n",
       "    <tr>\n",
       "      <th>2</th>\n",
       "      <td>Thomas</td>\n",
       "      <td>Smith</td>\n",
       "      <td>thomasdon@gmail.com</td>\n",
       "    </tr>\n",
       "  </tbody>\n",
       "</table>\n",
       "</div>"
      ],
      "text/plain": [
       "    first   last                 email\n",
       "0   Peter  Robie  peterrobie@gmail.com\n",
       "1  Robert    Don   robertdon@gmail.com\n",
       "2  Thomas  Smith   thomasdon@gmail.com"
      ]
     },
     "execution_count": 73,
     "metadata": {},
     "output_type": "execute_result"
    }
   ],
   "source": [
    "df"
   ]
  },
  {
   "cell_type": "markdown",
   "id": "c1af89d9-bc94-44d1-b602-5ccd99e3119e",
   "metadata": {},
   "source": [
    "### Using Apply function"
   ]
  },
  {
   "cell_type": "code",
   "execution_count": 74,
   "id": "9aa2bad0-c06a-4fbb-971a-c891b0f4a985",
   "metadata": {},
   "outputs": [
    {
     "data": {
      "text/plain": [
       "0    20\n",
       "1    19\n",
       "2    19\n",
       "Name: email, dtype: int64"
      ]
     },
     "execution_count": 74,
     "metadata": {},
     "output_type": "execute_result"
    }
   ],
   "source": [
    "df['email'].apply(len)"
   ]
  },
  {
   "cell_type": "code",
   "execution_count": 75,
   "id": "245d8cc8-cf0e-49ec-a931-391387ac6d73",
   "metadata": {},
   "outputs": [],
   "source": [
    "def update_email(email):\n",
    "    return email.upper()"
   ]
  },
  {
   "cell_type": "code",
   "execution_count": 76,
   "id": "c496bd69-8ac4-4149-97b9-612793b07358",
   "metadata": {},
   "outputs": [
    {
     "data": {
      "text/plain": [
       "0    PETERROBIE@GMAIL.COM\n",
       "1     ROBERTDON@GMAIL.COM\n",
       "2     THOMASDON@GMAIL.COM\n",
       "Name: email, dtype: object"
      ]
     },
     "execution_count": 76,
     "metadata": {},
     "output_type": "execute_result"
    }
   ],
   "source": [
    "df['email'].apply(update_email)"
   ]
  },
  {
   "cell_type": "code",
   "execution_count": 77,
   "id": "c2857c18-456d-4fea-9ee5-f0f3e4281fda",
   "metadata": {},
   "outputs": [],
   "source": [
    "# change email addresses on the dataframe\n",
    "df['email'] = df['email'].apply(update_email)"
   ]
  },
  {
   "cell_type": "code",
   "execution_count": 78,
   "id": "9f35ef87-35b7-4de3-8462-895b7be2566e",
   "metadata": {},
   "outputs": [
    {
     "data": {
      "text/html": [
       "<div>\n",
       "<style scoped>\n",
       "    .dataframe tbody tr th:only-of-type {\n",
       "        vertical-align: middle;\n",
       "    }\n",
       "\n",
       "    .dataframe tbody tr th {\n",
       "        vertical-align: top;\n",
       "    }\n",
       "\n",
       "    .dataframe thead th {\n",
       "        text-align: right;\n",
       "    }\n",
       "</style>\n",
       "<table border=\"1\" class=\"dataframe\">\n",
       "  <thead>\n",
       "    <tr style=\"text-align: right;\">\n",
       "      <th></th>\n",
       "      <th>first</th>\n",
       "      <th>last</th>\n",
       "      <th>email</th>\n",
       "    </tr>\n",
       "  </thead>\n",
       "  <tbody>\n",
       "    <tr>\n",
       "      <th>0</th>\n",
       "      <td>Peter</td>\n",
       "      <td>Robie</td>\n",
       "      <td>PETERROBIE@GMAIL.COM</td>\n",
       "    </tr>\n",
       "    <tr>\n",
       "      <th>1</th>\n",
       "      <td>Robert</td>\n",
       "      <td>Don</td>\n",
       "      <td>ROBERTDON@GMAIL.COM</td>\n",
       "    </tr>\n",
       "    <tr>\n",
       "      <th>2</th>\n",
       "      <td>Thomas</td>\n",
       "      <td>Smith</td>\n",
       "      <td>THOMASDON@GMAIL.COM</td>\n",
       "    </tr>\n",
       "  </tbody>\n",
       "</table>\n",
       "</div>"
      ],
      "text/plain": [
       "    first   last                 email\n",
       "0   Peter  Robie  PETERROBIE@GMAIL.COM\n",
       "1  Robert    Don   ROBERTDON@GMAIL.COM\n",
       "2  Thomas  Smith   THOMASDON@GMAIL.COM"
      ]
     },
     "execution_count": 78,
     "metadata": {},
     "output_type": "execute_result"
    }
   ],
   "source": [
    "df"
   ]
  },
  {
   "cell_type": "markdown",
   "id": "deccb5ca-1984-4a1b-9b93-2f7be58f09c5",
   "metadata": {},
   "source": [
    "## Using Lambda Expression "
   ]
  },
  {
   "cell_type": "code",
   "execution_count": 80,
   "id": "ed5f0b4f-1e8c-45ca-9c4a-2a4e011986b8",
   "metadata": {},
   "outputs": [],
   "source": [
    "df['email'] = df['email'].apply(lambda x: x.lower())"
   ]
  },
  {
   "cell_type": "code",
   "execution_count": 81,
   "id": "e05f8b0c-7880-4498-9d53-cb8a54264afd",
   "metadata": {},
   "outputs": [
    {
     "data": {
      "text/html": [
       "<div>\n",
       "<style scoped>\n",
       "    .dataframe tbody tr th:only-of-type {\n",
       "        vertical-align: middle;\n",
       "    }\n",
       "\n",
       "    .dataframe tbody tr th {\n",
       "        vertical-align: top;\n",
       "    }\n",
       "\n",
       "    .dataframe thead th {\n",
       "        text-align: right;\n",
       "    }\n",
       "</style>\n",
       "<table border=\"1\" class=\"dataframe\">\n",
       "  <thead>\n",
       "    <tr style=\"text-align: right;\">\n",
       "      <th></th>\n",
       "      <th>first</th>\n",
       "      <th>last</th>\n",
       "      <th>email</th>\n",
       "    </tr>\n",
       "  </thead>\n",
       "  <tbody>\n",
       "    <tr>\n",
       "      <th>0</th>\n",
       "      <td>Peter</td>\n",
       "      <td>Robie</td>\n",
       "      <td>peterrobie@gmail.com</td>\n",
       "    </tr>\n",
       "    <tr>\n",
       "      <th>1</th>\n",
       "      <td>Robert</td>\n",
       "      <td>Don</td>\n",
       "      <td>robertdon@gmail.com</td>\n",
       "    </tr>\n",
       "    <tr>\n",
       "      <th>2</th>\n",
       "      <td>Thomas</td>\n",
       "      <td>Smith</td>\n",
       "      <td>thomasdon@gmail.com</td>\n",
       "    </tr>\n",
       "  </tbody>\n",
       "</table>\n",
       "</div>"
      ],
      "text/plain": [
       "    first   last                 email\n",
       "0   Peter  Robie  peterrobie@gmail.com\n",
       "1  Robert    Don   robertdon@gmail.com\n",
       "2  Thomas  Smith   thomasdon@gmail.com"
      ]
     },
     "execution_count": 81,
     "metadata": {},
     "output_type": "execute_result"
    }
   ],
   "source": [
    "df"
   ]
  },
  {
   "cell_type": "code",
   "execution_count": null,
   "id": "55125996-2554-4151-95e2-a16fb91da60f",
   "metadata": {},
   "outputs": [],
   "source": []
  }
 ],
 "metadata": {
  "kernelspec": {
   "display_name": "Python 3 (ipykernel)",
   "language": "python",
   "name": "python3"
  },
  "language_info": {
   "codemirror_mode": {
    "name": "ipython",
    "version": 3
   },
   "file_extension": ".py",
   "mimetype": "text/x-python",
   "name": "python",
   "nbconvert_exporter": "python",
   "pygments_lexer": "ipython3",
   "version": "3.8.10"
  }
 },
 "nbformat": 4,
 "nbformat_minor": 5
}
